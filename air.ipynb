{
 "cells": [
  {
   "cell_type": "code",
   "execution_count": 1,
   "metadata": {},
   "outputs": [
    {
     "ename": "ModuleNotFoundError",
     "evalue": "No module named 'pymongo'",
     "output_type": "error",
     "traceback": [
      "\u001b[1;31m---------------------------------------------------------------------------\u001b[0m",
      "\u001b[1;31mModuleNotFoundError\u001b[0m                       Traceback (most recent call last)",
      "\u001b[1;32mc:\\Users\\psara\\Desktop\\SARANYA_VS\\cap4airbnb\\air.ipynb Cell 1\u001b[0m line \u001b[0;36m3\n\u001b[0;32m      <a href='vscode-notebook-cell:/c%3A/Users/psara/Desktop/SARANYA_VS/cap4airbnb/air.ipynb#W0sZmlsZQ%3D%3D?line=0'>1</a>\u001b[0m \u001b[39mimport\u001b[39;00m \u001b[39mpandas\u001b[39;00m \u001b[39mas\u001b[39;00m \u001b[39mpd\u001b[39;00m\n\u001b[0;32m      <a href='vscode-notebook-cell:/c%3A/Users/psara/Desktop/SARANYA_VS/cap4airbnb/air.ipynb#W0sZmlsZQ%3D%3D?line=1'>2</a>\u001b[0m \u001b[39mimport\u001b[39;00m \u001b[39mnumpy\u001b[39;00m \u001b[39mas\u001b[39;00m \u001b[39mnp\u001b[39;00m\n\u001b[1;32m----> <a href='vscode-notebook-cell:/c%3A/Users/psara/Desktop/SARANYA_VS/cap4airbnb/air.ipynb#W0sZmlsZQ%3D%3D?line=2'>3</a>\u001b[0m \u001b[39mimport\u001b[39;00m \u001b[39mpymongo\u001b[39;00m\n\u001b[0;32m      <a href='vscode-notebook-cell:/c%3A/Users/psara/Desktop/SARANYA_VS/cap4airbnb/air.ipynb#W0sZmlsZQ%3D%3D?line=3'>4</a>\u001b[0m \u001b[39mimport\u001b[39;00m \u001b[39mseaborn\u001b[39;00m \u001b[39mas\u001b[39;00m \u001b[39msns\u001b[39;00m\n\u001b[0;32m      <a href='vscode-notebook-cell:/c%3A/Users/psara/Desktop/SARANYA_VS/cap4airbnb/air.ipynb#W0sZmlsZQ%3D%3D?line=4'>5</a>\u001b[0m \u001b[39mimport\u001b[39;00m \u001b[39mplotly\u001b[39;00m\u001b[39m.\u001b[39;00m\u001b[39mexpress\u001b[39;00m \u001b[39mas\u001b[39;00m \u001b[39mpx\u001b[39;00m\n",
      "\u001b[1;31mModuleNotFoundError\u001b[0m: No module named 'pymongo'"
     ]
    }
   ],
   "source": [
    "import pandas as pd\n",
    "import numpy as np\n",
    "import pymongo\n",
    "import seaborn as sns\n",
    "import plotly.express as px\n",
    "import matplotlib.pyplot as plt\n",
    "from wordcloud import STOPWORDS, WordCloud\n"
   ]
  },
  {
   "cell_type": "code",
   "execution_count": null,
   "metadata": {},
   "outputs": [],
   "source": [
    "client = pymongo.MongoClient(\"Your unique client Id\")\n",
    "db = client.sample_airbnb\n",
    "col = db.listingsAndReviews"
   ]
  },
  {
   "cell_type": "code",
   "execution_count": null,
   "metadata": {},
   "outputs": [],
   "source": [
    "rel_data = []\n",
    "for i in col.find():\n",
    "    data = dict(Id = i['_id'],\n",
    "                Listing_url = i['listing_url'],\n",
    "                Name = i.get('name'),\n",
    "                Description = i['description'],\n",
    "                House_rules = i.get('house_rules'),\n",
    "                Property_type = i['property_type'],\n",
    "                Room_type = i['room_type'],\n",
    "                Bed_type = i['bed_type'],\n",
    "                Min_nights = int(i['minimum_nights']),\n",
    "                Max_nights = int(i['maximum_nights']),\n",
    "                Cancellation_policy = i['cancellation_policy'],\n",
    "                Accomodates = i['accommodates'],\n",
    "                Total_bedrooms = i.get('bedrooms'),\n",
    "                Total_beds = i.get('beds'),\n",
    "                Availability_365 = i['availability']['availability_365'],\n",
    "                Price = i['price'],\n",
    "                Security_deposit = i.get('security_deposit'),\n",
    "                Cleaning_fee = i.get('cleaning_fee'),\n",
    "                Extra_people = i['extra_people'],\n",
    "                Guests_included= i['guests_included'],\n",
    "                No_of_reviews = i['number_of_reviews'],\n",
    "                Review_scores = i['review_scores'].get('review_scores_rating'),\n",
    "                Amenities = ', '.join(i['amenities']),\n",
    "                Host_id = i['host']['host_id'],\n",
    "                Host_name = i['host']['host_name'],\n",
    "                Street = i['address']['street'],\n",
    "                Country = i['address']['country'],\n",
    "                Country_code = i['address']['country_code'],\n",
    "                Location_type = i['address']['location']['type'],\n",
    "                Longitude = i['address']['location']['coordinates'][0],\n",
    "                Latitude = i['address']['location']['coordinates'][1],\n",
    "                Is_location_exact = i['address']['location']['is_location_exact']\n",
    "    )\n",
    "    rel_data.append(data)"
   ]
  },
  {
   "cell_type": "code",
   "execution_count": null,
   "metadata": {},
   "outputs": [],
   "source": [
    "df = pd.DataFrame(rel_data)\n",
    "df"
   ]
  },
  {
   "cell_type": "code",
   "execution_count": null,
   "metadata": {},
   "outputs": [],
   "source": [
    "# checking Data types\n",
    "df.info()"
   ]
  },
  {
   "cell_type": "code",
   "execution_count": null,
   "metadata": {},
   "outputs": [],
   "source": [
    "# The below features are in Decimal128 type hence changing it to relevant data types\n",
    "df.Price = df.Price.astype(str).astype(float)\n",
    "df.Security_deposit = df.Security_deposit[~df.Security_deposit.isna()].astype(str).astype(float)\n",
    "df.Cleaning_fee = df.Cleaning_fee[~df.Cleaning_fee.isna()].astype(str).astype(float)\n",
    "df.Extra_people = df.Extra_people.astype(str).astype(float)\n",
    "df.Guests_included = df.Guests_included.astype(str).astype(float)\n",
    "df.Review_scores = df.Review_scores.astype('Int64')"
   ]
  },
  {
   "cell_type": "code",
   "execution_count": null,
   "metadata": {},
   "outputs": [],
   "source": [
    "df.isna().sum()"
   ]
  },
  {
   "cell_type": "code",
   "execution_count": null,
   "metadata": {},
   "outputs": [],
   "source": [
    "# Filling Total bedrooms with mode\n",
    "df.Total_bedrooms.fillna(df.Total_bedrooms.mode()[0],inplace=True)\n",
    "# Filling Total beds with median because data has outliers\n",
    "df.Total_beds.fillna(df.Total_beds.median(),inplace=True)\n",
    "df.Security_deposit.fillna(df.Security_deposit.median(),inplace=True)\n",
    "df.Cleaning_fee.fillna(df.Cleaning_fee.median(),inplace=True)\n",
    "df.Review_scores.fillna(df.Review_scores.median(),inplace=True)"
   ]
  },
  {
   "cell_type": "code",
   "execution_count": null,
   "metadata": {},
   "outputs": [],
   "source": [
    "# Filling Empty values in Description and House rules columns\n",
    "df.Description.replace(to_replace='',value='No Description Provided',inplace=True)\n",
    "df.House_rules.replace(to_replace='',value='No House rules Provided',inplace=True)\n",
    "df.Amenities.replace(to_replace='',value='Not Available',inplace=True)"
   ]
  },
  {
   "cell_type": "code",
   "execution_count": null,
   "metadata": {},
   "outputs": [],
   "source": [
    "df.isna().sum()"
   ]
  },
  {
   "cell_type": "code",
   "execution_count": null,
   "metadata": {},
   "outputs": [],
   "source": [
    "# Checking Duplicate records\n",
    "df[df.duplicated()]"
   ]
  },
  {
   "cell_type": "code",
   "execution_count": null,
   "metadata": {},
   "outputs": [],
   "source": [
    "# Name Column has empty values and some duplicates hence dropping them\n",
    "df.drop(labels=list(df[df.Name.duplicated(keep=False)].index),inplace=True)"
   ]
  },
  {
   "cell_type": "code",
   "execution_count": null,
   "metadata": {},
   "outputs": [],
   "source": [
    "df.reset_index(drop=True,inplace=True)"
   ]
  },
  {
   "cell_type": "code",
   "execution_count": null,
   "metadata": {},
   "outputs": [],
   "source": [
    "# Converting dataframe to csv file and saving it\n",
    "df.to_csv('Airbnb_data.csv',index=False)"
   ]
  },
  {
   "cell_type": "code",
   "execution_count": null,
   "metadata": {},
   "outputs": [],
   "source": [
    "plt.figure(figsize=(10,8))\n",
    "ax = sns.countplot(data=df,y=df.Property_type.values,order=df.Property_type.value_counts().index[:10])\n",
    "ax.set_title(\"Top 10 Property Types available\")"
   ]
  },
  {
   "cell_type": "code",
   "execution_count": null,
   "metadata": {},
   "outputs": [],
   "source": [
    "plt.figure(figsize=(10,8))\n",
    "ax = sns.countplot(data=df,x=df.Room_type)\n",
    "ax.set_title(\"Total Listings in each Room Type\")"
   ]
  },
  {
   "cell_type": "code",
   "execution_count": null,
   "metadata": {},
   "outputs": [],
   "source": [
    "# top 10 Hosts with Highest number of listings\n",
    "df.Host_name.value_counts()"
   ]
  },
  {
   "cell_type": "code",
   "execution_count": null,
   "metadata": {},
   "outputs": [],
   "source": [
    "plt.figure(figsize=(10,8))\n",
    "ax = sns.countplot(data=df,y=df.Host_name,order=df.Host_name.value_counts().index[:10])\n",
    "ax.set_title(\"Top 10 Hosts with Highest number of Listings\")"
   ]
  },
  {
   "cell_type": "code",
   "execution_count": null,
   "metadata": {},
   "outputs": [],
   "source": [
    "fig = px.choropleth(data_frame=df,\n",
    "                    locations='Country_code',\n",
    "                    color='Country',\n",
    "                    locationmode='country names')\n",
    "fig.show()\n"
   ]
  },
  {
   "cell_type": "code",
   "execution_count": null,
   "metadata": {},
   "outputs": [],
   "source": [
    "country_df = df.groupby('Country',as_index=False)['Price'].mean()"
   ]
  },
  {
   "cell_type": "code",
   "execution_count": null,
   "metadata": {},
   "outputs": [],
   "source": [
    "fig = px.scatter(data_frame=country_df,\n",
    "           x='Country',y='Price',\n",
    "           color='Country',\n",
    "           size='Price',\n",
    "           opacity=1,\n",
    "           size_max=35,\n",
    "           title='Avg Listing Price in each Countries')\n",
    "fig.show()"
   ]
  },
  {
   "cell_type": "code",
   "execution_count": null,
   "metadata": {},
   "outputs": [],
   "source": [
    "rev_df = df.groupby('Room_type',as_index=False)['Review_scores'].mean().sort_values(by='Review_scores')\n",
    "fig = px.bar(data_frame=rev_df,x='Room_type',y='Review_scores',color='Review_scores')\n",
    "fig.show()\n"
   ]
  },
  {
   "cell_type": "code",
   "execution_count": null,
   "metadata": {},
   "outputs": [],
   "source": [
    "pr_df = df.groupby('Room_type',as_index=False)['Price'].mean().sort_values(by='Price')\n",
    "fig = px.bar(data_frame=pr_df,x='Room_type',y='Price',color='Price')\n",
    "fig.show()"
   ]
  },
  {
   "cell_type": "markdown",
   "metadata": {},
   "source": []
  }
 ],
 "metadata": {
  "kernelspec": {
   "display_name": "Python 3",
   "language": "python",
   "name": "python3"
  },
  "language_info": {
   "codemirror_mode": {
    "name": "ipython",
    "version": 3
   },
   "file_extension": ".py",
   "mimetype": "text/x-python",
   "name": "python",
   "nbconvert_exporter": "python",
   "pygments_lexer": "ipython3",
   "version": "3.11.5"
  }
 },
 "nbformat": 4,
 "nbformat_minor": 2
}
